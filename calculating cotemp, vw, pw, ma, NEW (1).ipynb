{
 "cells": [
  {
   "cell_type": "code",
   "execution_count": 1,
   "metadata": {},
   "outputs": [],
   "source": [
    "import numpy as np\n",
    "import matplotlib.pyplot as plt\n",
    "%matplotlib inline\n",
    "plt.rcParams.update({'font.size': 20})\n",
    "plt.rcParams['figure.figsize'] = [20, 10]"
   ]
  },
  {
   "cell_type": "code",
   "execution_count": 4,
   "metadata": {},
   "outputs": [
    {
     "name": "stdout",
     "output_type": "stream",
     "text": [
      "initial atmosphere mass\n",
      "[4.955e+21 3.820e+20 1.850e+22 4.170e+22 3.145e+23 3.381e+24 6.025e+23\n",
      " 4.264e+24 4.240e+24 1.870e+24       nan       nan       nan       nan\n",
      "       nan       nan       nan       nan       nan       nan       nan\n",
      "       nan       nan       nan       nan       nan       nan       nan\n",
      "       nan       nan       nan       nan       nan       nan       nan\n",
      "       nan       nan       nan       nan       nan       nan       nan]\n",
      "wind velocities for Kepler-138d, K2-3d, GJ3053b, K2-3c, GJ9827d, K2-18b, GJ97658b\n",
      "[659.96845418 389.33010677 147.21070238 357.54237964 563.17858875\n",
      " 416.9940419  280.38831418]\n",
      "wind velocities for GJ1132b, 55Cnce, GJ1214b\n",
      "[19.62486672 14.89090132 25.20406785]\n",
      "wind densities for GJ1132b, Kepler-138d, K2-3d, GJ3053b, K2-3c, 55Cnce, GJ9827d, K2-18b, GJ97658b, GJ1214b\n",
      "[4.33146214e-20 4.61575531e-22 1.09189332e-22 2.74161556e-22\n",
      " 2.40699619e-22 8.06990113e-20 2.89697096e-21 2.42619311e-22\n",
      " 7.92150214e-22 6.52855342e-20            nan            nan\n",
      "            nan            nan            nan            nan\n",
      "            nan            nan            nan            nan\n",
      "            nan            nan            nan            nan\n",
      "            nan            nan            nan            nan\n",
      "            nan            nan            nan            nan\n",
      "            nan            nan            nan            nan\n",
      "            nan            nan            nan            nan\n",
      "            nan            nan]\n",
      "atmospheric mass loss rate for Kepler-138d, K2-3d, GJ3053b, K2-3c, GJ9827d, K2-18b, GJ97658b in g/s\n",
      "[ 34106.15840094   8850.46982609   9130.55880007  20618.06392615\n",
      " 510095.21613935  43455.99927287  97833.15187225]\n",
      "atmospheric mass loss rate for GJ1132b, 55Cnce, GJ1214b in g/s\n",
      "[  83003.08495113  335236.52376821 1022058.66070219]\n",
      "atmospheric mass loss 5 Gyr in kg for Kepler-138d, K2-3d, GJ3053b, K2-3c, GJ9827d, K2-18b, GJ97658b\n",
      "[5.37785906e+18 1.39554208e+18 1.43970651e+18 3.25105632e+18\n",
      " 8.04318137e+19 6.85214197e+18 1.54263314e+19]\n",
      "atmospheric mass loss 5 Gyr in kg for GJ1132b, 55Cnce, GJ1214b\n",
      "[1.30879264e+19 5.28600951e+19 1.61158210e+20]\n"
     ]
    }
   ],
   "source": [
    "# How to open a table\n",
    "T2_table = np.genfromtxt('/Users/kalgi/Desktop/stellar wind /STELLARWIND.csv', delimiter=\",\", usecols=(1,4,7,16,19,25,26,27,35,36,37,28,38,31), skip_header=2) \n",
    "T2_table = np.transpose(T2_table)\n",
    "\n",
    "T2_table_onlynames = np.genfromtxt('/Users/kalgi/Desktop/stellar wind /STELLARWIND.csv', delimiter=\",\", usecols=(2),skip_header=2, dtype=str) \n",
    "T2_table_onlynames = np.transpose(T2_table_onlynames)\n",
    "\n",
    "# Read the parameters of the table\n",
    "names = T2_table_onlynames #names of the planets\n",
    "plt_mass=T2_table[0] #in earth mass\n",
    "plt_rad=T2_table[1] #in earth radii\n",
    "plt_den=T2_table[2] #in g/cm^3\n",
    "st_mass=T2_table[3] #in solar mass\n",
    "st_rot=T2_table[4] #in days\n",
    "st_cotemp= T2_table[5] #in MK\n",
    "orb_rad= T2_table[6] #in km\n",
    "plt_rad_km= T2_table[7] #in km\n",
    "M_a_gs= T2_table[8] #Mass loss in g/s\n",
    "M_a_gGyr= T2_table[9] #Mass loss in g/1Gyr\n",
    "M_a_MEGyr= T2_table[10] #Mass loss in Earth Mass/Gyr\n",
    "plt_mass_kg= T2_table[11] #planet mass in kg\n",
    "M_a_percent = T2_table[12] #mass percent of atmosphere lost in relation to planets mass (atmospere lost/planet mass X100)\n",
    "p_atm= T2_table[13] #percent Earth atmosphere\n",
    "\n",
    "#CALCULATING CORONAL TEMPERATURE\n",
    "cond3 = np.where(st_rot > 18.9) \n",
    "cond4 = np.where(st_rot < 18.9) \n",
    "\n",
    "coronal_temp_rot = 1.5*(27/st_rot[cond3])**1.2\n",
    "coronal_temp_rot1 = 1.98*(27/st_rot[cond4])**0.37\n",
    "\n",
    "#CALCULATING WIND VELOCITY\n",
    "a_naught_new= 180*(st_cotemp*10**6/(2*10**6))**(1/2) #calculation of critical velocity in km/s\n",
    "r_s_new= (2*10**11)*(st_mass/1)*(st_cotemp*10**6/(2*10**6))**(-1) #calculation of critical radius in cm\n",
    "\n",
    "cond1 = np.where(orb_rad*10**5 < r_s_new) \n",
    "cond2 = np.where(orb_rad*10**5 > r_s_new) \n",
    "\n",
    "large_radii = 2*a_naught_new[cond2]*np.log(orb_rad[cond2]*10**5/r_s_new[cond2])**0.5 \n",
    "small_radii = a_naught_new[cond1]*np.exp(3/2)*np.exp((-2*r_s_new[cond1])/(orb_rad[cond1]*10**5))\n",
    "\n",
    "#CALCULATING WIND DENSITY\n",
    "M_H= 1.6726231E-24 #mass of the proton in grams\n",
    "P_sun= 27.2 #rotation period of Sun in day\n",
    "r_sun=6.96E10 #radius of the sun in cm\n",
    "\n",
    "wind_density= ((3.3E5*(orb_rad*10**5/r_sun)**-2 + 4.16E6*(orb_rad*10**5/r_sun)**-4 + 8.0E7*(orb_rad*10**5/r_sun)**-6)*(M_H/2)*((P_sun/st_rot)**0.6))\n",
    "\n",
    "#CALCULATING ATMOSPHERIC MASS LOSS\n",
    "M_a_1= 6.28*(plt_rad_km[cond2]**2)*0.3*(wind_density[cond2]*10**15)*(large_radii)\n",
    "M_a_2= 6.28*(plt_rad_km[cond1]**2)*0.3*(wind_density[cond1]*10**15)*(small_radii)\n",
    "\n",
    "#CALCULATING PERCENT ATMOSPHERE\n",
    "p_atmosphere= (p_atm/100)*plt_mass_kg\n",
    "\n",
    "#PRINTING VALUES\n",
    "print('initial atmosphere mass')\n",
    "print(p_atmosphere)\n",
    "print('wind velocities for Kepler-138d, K2-3d, GJ3053b, K2-3c, GJ9827d, K2-18b, GJ97658b')\n",
    "print(large_radii) #Kepler-138d, K2-3d, GJ3053b, K2-3c, GJ9827d, K2-18b, GJ97658b\n",
    "print('wind velocities for GJ1132b, 55Cnce, GJ1214b')\n",
    "print(small_radii) #GJ1132b, 55Cnce, GJ1214b\n",
    "print('wind densities for GJ1132b, Kepler-138d, K2-3d, GJ3053b, K2-3c, 55Cnce, GJ9827d, K2-18b, GJ97658b, GJ1214b')\n",
    "print(wind_density) #GJ1132b, Kepler-138d, K2-3d, GJ3053b, K2-3c, 55Cnce, GJ9827d, K2-18b, GJ97658b, GJ1214b\n",
    "print('atmospheric mass loss rate for Kepler-138d, K2-3d, GJ3053b, K2-3c, GJ9827d, K2-18b, GJ97658b in g/s')\n",
    "print(M_a_1)\n",
    "print('atmospheric mass loss rate for GJ1132b, 55Cnce, GJ1214b in g/s')\n",
    "print(M_a_2)\n",
    "print('atmospheric mass loss 5 Gyr in kg for Kepler-138d, K2-3d, GJ3053b, K2-3c, GJ9827d, K2-18b, GJ97658b')\n",
    "print((M_a_1*1.5768e+17)/1000) \n",
    "print('atmospheric mass loss 5 Gyr in kg for GJ1132b, 55Cnce, GJ1214b')\n",
    "print((M_a_2*1.5768e+17)/1000)\n"
   ]
  },
  {
   "cell_type": "code",
   "execution_count": 5,
   "metadata": {},
   "outputs": [
    {
     "data": {
      "text/plain": [
       "Text(0.5, 0, 'Planet Mass [M$_{\\\\oplus}$]')"
      ]
     },
     "execution_count": 5,
     "metadata": {},
     "output_type": "execute_result"
    },
    {
     "data": {
      "image/png": "[encoded data removed]",
      "text/plain": [
       "<Figure size 432x288 with 1 Axes>"
      ]
     },
     "metadata": {},
     "output_type": "display_data"
    }
   ],
   "source": [
    "plt.scatter(plt_mass, M_a_gs, marker='o',s=100,color='SteelBlue', label='planet')\n",
    "plt.legend(loc=\"upper right\")\n",
    "plt.title('Mass Loss Rates v. Planet Mass')\n",
    "plt.yscale('log')\n",
    "plt.ylabel('Mass loss rate (g/s)')\n",
    "plt.xlabel('Planet Mass [M$_{\\oplus}$]')\n"
   ]
  },
  {
   "cell_type": "code",
   "execution_count": null,
   "metadata": {},
   "outputs": [],
   "source": []
  }
 ],
 "metadata": {
  "kernelspec": {
   "display_name": "Python 3",
   "language": "python",
   "name": "python3"
  },
  "language_info": {
   "codemirror_mode": {
    "name": "ipython",
    "version": 3
   },
   "file_extension": ".py",
   "mimetype": "text/x-python",
   "name": "python",
   "nbconvert_exporter": "python",
   "pygments_lexer": "ipython3",
   "version": "3.6.7"
  }
 },
 "nbformat": 4,
 "nbformat_minor": 4
}
